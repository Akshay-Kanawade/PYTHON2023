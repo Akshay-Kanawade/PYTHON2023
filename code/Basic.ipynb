{
 "cells": [
  {
   "cell_type": "code",
   "execution_count": 1,
   "metadata": {},
   "outputs": [
    {
     "name": "stdout",
     "output_type": "stream",
     "text": [
      "hello python\n"
     ]
    }
   ],
   "source": [
    "## Output\n",
    "\n",
    "print(\"hello python\")"
   ]
  },
  {
   "cell_type": "code",
   "execution_count": 2,
   "metadata": {},
   "outputs": [
    {
     "name": "stdout",
     "output_type": "stream",
     "text": [
      "akshay\n"
     ]
    }
   ],
   "source": [
    "# single input\n",
    "\n",
    "user_name = input(\"please enter the name : \")\n",
    "print(user_name)"
   ]
  },
  {
   "cell_type": "code",
   "execution_count": 3,
   "metadata": {},
   "outputs": [
    {
     "name": "stdout",
     "output_type": "stream",
     "text": [
      "Akshay Kanawade\n"
     ]
    }
   ],
   "source": [
    "# multiple input\n",
    "\n",
    "first, last = input(\"please enter the first and last name separated by space : \").split(\" \") \n",
    "# first, last = input(\"please enter the first and last name separated by comma : \").split(\",\") \n",
    "print(first, last)"
   ]
  },
  {
   "cell_type": "code",
   "execution_count": 7,
   "metadata": {},
   "outputs": [
    {
     "name": "stdout",
     "output_type": "stream",
     "text": [
      "User first name : Akshay and last name : Kanawade\n",
      "first name : Akshay and last name : Kanawade\n",
      "first name : Akshay and last name : Kanawade\n"
     ]
    }
   ],
   "source": [
    "# string formatting\n",
    "\n",
    "first, last = \"Akshay\", \"Kanawade\"\n",
    "print(f\"User first name : {first} and last name : {last}\")\n",
    "print(\"first name : {} and last name : {}\".format(first, last))\n",
    "print(\"first name : \" + first + \" \"+ \"and last name : \"+ last)"
   ]
  },
  {
   "cell_type": "code",
   "execution_count": 10,
   "metadata": {},
   "outputs": [
    {
     "name": "stdout",
     "output_type": "stream",
     "text": [
      "text :  aks\n",
      "numeric : int-2, float-2.2, complex-2j\n",
      "boolean - True\n",
      "binary : bytes - b'hii', bytearray - bytearray(b'\\x00\\x00\\x00\\x00\\x00'), memoryview-<memory at 0x7efeec8f7d00>\n",
      "nonetype : None\n",
      "mapping : dict - {'aks': 'akshay'}\n",
      "set : set-{1, 2, 3}, frozenset - frozenset({1, 2, 3})\n",
      "sequence : list-[1, 2, 4], tuple-(1, 2, 3), range-range(0, 5)\n"
     ]
    }
   ],
   "source": [
    "# #data types\n",
    "\n",
    "# text\n",
    "\n",
    "name = \"aks\"  # string\n",
    "\n",
    "print(\"text : \",name)\n",
    "\n",
    "# numeric\n",
    "\n",
    "num_int = 2 \n",
    "num_float = 2.2\n",
    "num_complex = 2j\n",
    "\n",
    "print(f\"numeric : int-{num_int}, float-{num_float}, complex-{num_complex}\")\n",
    "# boolean\n",
    "\n",
    "type_bool = True #False\n",
    "print(\"boolean -\",type_bool)\n",
    "#  binary \n",
    "\n",
    "num_bytes = b\"hii\"\n",
    "num_bytearray = bytearray(5)\n",
    "num_memoryview = memoryview(bytes(5))\n",
    "\n",
    "print(f\"binary : bytes - {num_bytes}, bytearray - { num_bytearray}, memoryview-{num_memoryview}\")\n",
    "# nonetype\n",
    "\n",
    "num_nonetype = None\n",
    "print(\"nonetype :\",num_nonetype)\n",
    "# mapping\n",
    "\n",
    "dict1 = {\n",
    "    name:\"akshay\"\n",
    "}\n",
    "print(f\"mapping : dict - {dict1}\")\n",
    "# set\n",
    "\n",
    "data_set = {1,2,3}\n",
    "data_forzenset = frozenset([1,2,3])\n",
    "print(f\"set : set-{data_set}, frozenset - {data_forzenset}\")\n",
    "# sequence \n",
    "\n",
    "data_list = [1,2,4]\n",
    "data_tuple = (1,2,3)\n",
    "data_range = range(5)\n",
    "print(f\"sequence : list-{data_list}, tuple-{data_tuple}, range-{data_range}\")"
   ]
  },
  {
   "cell_type": "code",
   "execution_count": 14,
   "metadata": {},
   "outputs": [
    {
     "name": "stdout",
     "output_type": "stream",
     "text": [
      "next\n",
      "line\n",
      "next \\n line\n",
      "double \\\\ slash\n"
     ]
    }
   ],
   "source": [
    "# Escape sequence\n",
    "\n",
    "print(\"next\\nline\")\n",
    "print(\"next \\\\n line\")\n",
    "print(\"double \\\\\\\\ slash\")"
   ]
  },
  {
   "cell_type": "code",
   "execution_count": 16,
   "metadata": {},
   "outputs": [
    {
     "name": "stdout",
     "output_type": "stream",
     "text": [
      "this is \\n raw string \n"
     ]
    }
   ],
   "source": [
    "# raw string\n",
    "\n",
    "print(r\"this is \\n raw string \")"
   ]
  },
  {
   "cell_type": "code",
   "execution_count": 17,
   "metadata": {},
   "outputs": [
    {
     "name": "stdout",
     "output_type": "stream",
     "text": [
      "😃\n"
     ]
    }
   ],
   "source": [
    "# emoji print\n",
    "\n",
    "print(\"\\U0001F603\")"
   ]
  },
  {
   "cell_type": "code",
   "execution_count": 18,
   "metadata": {},
   "outputs": [
    {
     "name": "stdout",
     "output_type": "stream",
     "text": [
      "<class 'str'>\n",
      "aks\n"
     ]
    }
   ],
   "source": [
    "# string input\n",
    "\n",
    "name = input(\"enter name : \")\n",
    "print(type(name))\n",
    "print(name)"
   ]
  },
  {
   "cell_type": "code",
   "execution_count": 2,
   "metadata": {},
   "outputs": [
    {
     "name": "stdout",
     "output_type": "stream",
     "text": [
      "<class 'int'>\n",
      "123\n",
      "123.0\n",
      "bytearray(b'\\x00\\x00\\x00\\x00\\x00\\x00\\x00\\x00\\x00\\x00\\x00\\x00\\x00\\x00\\x00\\x00\\x00\\x00\\x00\\x00\\x00\\x00\\x00\\x00\\x00\\x00\\x00\\x00\\x00\\x00\\x00\\x00\\x00\\x00\\x00\\x00\\x00\\x00\\x00\\x00\\x00\\x00\\x00\\x00\\x00\\x00\\x00\\x00\\x00\\x00\\x00\\x00\\x00\\x00\\x00\\x00\\x00\\x00\\x00\\x00\\x00\\x00\\x00\\x00\\x00\\x00\\x00\\x00\\x00\\x00\\x00\\x00\\x00\\x00\\x00\\x00\\x00\\x00\\x00\\x00\\x00\\x00\\x00\\x00\\x00\\x00\\x00\\x00\\x00\\x00\\x00\\x00\\x00\\x00\\x00\\x00\\x00\\x00\\x00\\x00\\x00\\x00\\x00\\x00\\x00\\x00\\x00\\x00\\x00\\x00\\x00\\x00\\x00\\x00\\x00\\x00\\x00\\x00\\x00\\x00\\x00\\x00\\x00')\n"
     ]
    }
   ],
   "source": [
    "# int input\n",
    "\n",
    "num = int(input(\"enter the num : \"))\n",
    "print(type(num))\n",
    "print(num)\n",
    "print(float(num))\n",
    "print(bytearray(num))"
   ]
  }
 ],
 "metadata": {
  "kernelspec": {
   "display_name": "Python 3",
   "language": "python",
   "name": "python3"
  },
  "language_info": {
   "codemirror_mode": {
    "name": "ipython",
    "version": 3
   },
   "file_extension": ".py",
   "mimetype": "text/x-python",
   "name": "python",
   "nbconvert_exporter": "python",
   "pygments_lexer": "ipython3",
   "version": "3.10.6"
  },
  "orig_nbformat": 4,
  "vscode": {
   "interpreter": {
    "hash": "916dbcbb3f70747c44a77c7bcd40155683ae19c65e1c03b4aa3499c5328201f1"
   }
  }
 },
 "nbformat": 4,
 "nbformat_minor": 2
}
