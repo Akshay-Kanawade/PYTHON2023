{
 "cells": [
  {
   "attachments": {},
   "cell_type": "markdown",
   "metadata": {},
   "source": [
    "ds- \n",
    "    -  way to organised data "
   ]
  },
  {
   "attachments": {},
   "cell_type": "markdown",
   "metadata": {},
   "source": [
    "types of ds\n",
    "\n",
    "premitive - int, float, char, str,bool\n",
    "\n",
    "non-primitive - \n",
    "\n",
    "    linear - \n",
    "        static -array, \n",
    "        dynamic - ll, stack, queue\n",
    "\n",
    "    non-linear - tree, graph, "
   ]
  },
  {
   "attachments": {},
   "cell_type": "markdown",
   "metadata": {},
   "source": [
    "types of algo - \n",
    "\n",
    "    -recursion - \n",
    "    -divide & conqure - quick & merge sort\n",
    "    -dynamic\n",
    "    -greedy\n",
    "    -brute force\n",
    "    -randomized"
   ]
  },
  {
   "attachments": {},
   "cell_type": "markdown",
   "metadata": {},
   "source": [
    "Recursion -\n",
    "    - call fun itself\n",
    "    - maintain in stack"
   ]
  },
  {
   "attachments": {},
   "cell_type": "markdown",
   "metadata": {},
   "source": [
    "write recursion -\n",
    "    - "
   ]
  },
  {
   "cell_type": "markdown",
   "metadata": {},
   "source": []
  },
  {
   "cell_type": "code",
   "execution_count": 9,
   "metadata": {},
   "outputs": [
    {
     "name": "stdout",
     "output_type": "stream",
     "text": [
      "6\n"
     ]
    }
   ],
   "source": [
    "def fact(n):\n",
    "    assert n>=0 and int(n) == n, 'num must be positive'\n",
    "    if n in [0,1]:\n",
    "        return 1\n",
    "    else:\n",
    "        return n*fact(n-1)\n",
    "\n",
    "print(fact(3))"
   ]
  },
  {
   "cell_type": "code",
   "execution_count": 5,
   "metadata": {},
   "outputs": [
    {
     "name": "stdout",
     "output_type": "stream",
     "text": [
      "6\n"
     ]
    }
   ],
   "source": [
    "def fact(n):\n",
    "    f= 1\n",
    "    for i in range(1,n+1):\n",
    "      f = f*i\n",
    "    return f\n",
    "\n",
    "print(fact(3))  "
   ]
  },
  {
   "cell_type": "code",
   "execution_count": 8,
   "metadata": {},
   "outputs": [
    {
     "name": "stdout",
     "output_type": "stream",
     "text": [
      "9\n",
      "8\n",
      "7\n",
      "6\n",
      "5\n",
      "4\n",
      "3\n",
      "2\n",
      "1\n"
     ]
    }
   ],
   "source": [
    "def fib(n):\n",
    "    assert n >= 0 and int(n)==n ,\"num must be positive\"\n",
    "    if n in [0,1]:\n",
    "        return n\n",
    "    else:\n",
    "        print(n)\n",
    "        return fib(n-1)\n",
    "    \n",
    "print(fib(9))\n",
    "    "
   ]
  },
  {
   "cell_type": "code",
   "execution_count": 47,
   "metadata": {},
   "outputs": [
    {
     "name": "stdout",
     "output_type": "stream",
     "text": [
      "1\n",
      "1\n",
      "2\n",
      "3\n",
      "None\n"
     ]
    }
   ],
   "source": [
    "def recFib(n):\n",
    "    if n<=1:\n",
    "        return n\n",
    "    else:\n",
    "        return recFib(n-1)+recFib(n-2)\n",
    "    \n",
    "def fib(n):\n",
    "    for i in range(1,n+1):\n",
    "        print(recFib(i))\n",
    "  \n",
    "        \n",
    "print(fib(4))"
   ]
  }
 ],
 "metadata": {
  "kernelspec": {
   "display_name": "Python 3",
   "language": "python",
   "name": "python3"
  },
  "language_info": {
   "codemirror_mode": {
    "name": "ipython",
    "version": 3
   },
   "file_extension": ".py",
   "mimetype": "text/x-python",
   "name": "python",
   "nbconvert_exporter": "python",
   "pygments_lexer": "ipython3",
   "version": "3.10.6"
  },
  "orig_nbformat": 4,
  "vscode": {
   "interpreter": {
    "hash": "916dbcbb3f70747c44a77c7bcd40155683ae19c65e1c03b4aa3499c5328201f1"
   }
  }
 },
 "nbformat": 4,
 "nbformat_minor": 2
}
