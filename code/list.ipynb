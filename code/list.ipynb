{
 "cells": [
  {
   "attachments": {},
   "cell_type": "markdown",
   "metadata": {},
   "source": [
    "\"\"\"\n",
    "    List\n",
    "\"\"\""
   ]
  },
  {
   "cell_type": "code",
   "execution_count": 1,
   "metadata": {},
   "outputs": [
    {
     "name": "stdout",
     "output_type": "stream",
     "text": [
      "list [1, 2, 3, 4, 5, 6, 7, 8, 9, 0]\n",
      "[1, 2, 3, 4, 5]\n",
      "[1, 2, 3, 4, 5, 6, 7, 8, 9, 0]\n",
      "[3, 4, 5, 6, 7]\n",
      "[1, 3, 5]\n",
      "[2, 3, 4, 5]\n"
     ]
    }
   ],
   "source": [
    "list_ = [1,2,3,4,5,6,7,8,9,0]\n",
    "print(\"list\",list_)\n",
    "\n",
    "# slicing\n",
    "\n",
    "print(list_[:5])\n",
    "print(list_[:])\n",
    "print(list_[-8:-3:1])\n",
    "print(list_[:5:2])\n",
    "print(list_[1:5])\n"
   ]
  },
  {
   "cell_type": "code",
   "execution_count": 2,
   "metadata": {},
   "outputs": [
    {
     "name": "stdout",
     "output_type": "stream",
     "text": [
      "removed item None\n",
      "[1, 2, 3, 4, 5, 6, 7, 8, 9, 0, 22, 'wer', 'tfc', 'sfdfdsd']\n",
      "[1, 2, 3, 4, 5, 6, 7, 8, 9, 0, 22, 'wer', 'tfc']\n",
      "poped item tfc\n",
      "poped item wer\n",
      "[1, 2, 4, 5, 6, 7, 8, 9, 0, 22]\n",
      "True\n",
      "True\n",
      "1\n",
      "[0, 1, 2, 4, 5, 6, 7, 8, 9, 22]\n",
      "[22, 9, 8, 7, 6, 5, 4, 2, 1, 0]\n",
      "[0, 1, 2, 4, 5, 6, 7, 8, 9, 22]\n",
      "[22, 9, 8, 7, 6, 5, 4, 2, 1, 0]\n",
      "copy : list_ - 0x7f82f0f06100 & list_1 - 0x7f830213ccc0\n",
      "[22, 9, 8, 7, 6, 5, 4, 2, 1, 0]\n",
      "[22, 9, 8, 7, 6, 5, 4, 2, 1] [22, 9, 8, 7, 6, 5, 4, 2, 1, 0]\n",
      "slice : list_ - 0x7f82f0f06100 & list_2 - 0x7f82f0f07040\n",
      "[22, 9, 8, 7, 6, 5, 4, 2, 1, 0]\n",
      "[22, 9, 8, 7, 6, 5, 4, 2, 1] [22, 9, 8, 7, 6, 5, 4, 2, 1, 0]\n",
      "[22, 9, 8, 7, 6, 5, 4, 2, 1, 0]\n",
      "[22, 9, 8, 7, 6, 5, 4, 2, 1] [22, 9, 8, 7, 6, 5, 4, 2, 1]\n",
      "assign : list_ - 0x7f82f0f06100 & list_3 - 0x7f82f0f06100\n"
     ]
    }
   ],
   "source": [
    "list_ = [1,2,3,4,5,6,7,8,9,0]\n",
    "\n",
    "list_.append(22)\n",
    "list_.insert(1,345)\n",
    "\n",
    "print(\"removed item\" ,list_.remove(345))\n",
    "list_.extend([\"wer\",\"tfc\"])\n",
    "print(list_+[\"sfdfdsd\"])\n",
    "print(list_)\n",
    "print(\"poped item\",list_.pop())\n",
    "print(\"poped item\",list_.pop(-1))\n",
    "del list_[2]\n",
    "print(list_)\n",
    "\n",
    "print(4 in list_)\n",
    "print(\"wer\" not in list_)\n",
    "print(list_.count(7))\n",
    "list_.sort()\n",
    "print(list_)\n",
    "print(sorted(list_, reverse=True))\n",
    "print(list_)\n",
    "list_.reverse()\n",
    "print(list_)\n",
    "\n",
    "# copy\n",
    "list_1 = list_.copy()\n",
    "print(f\"copy : list_ - {hex(id(list_))} & list_1 - {hex(id(list_1))}\",  )\n",
    "print(list_1)\n",
    "list_1.pop()\n",
    "print(list_1, list_)\n",
    "\n",
    "\n",
    "list_2 = list_[::]\n",
    "print(f\"slice : list_ - {hex(id(list_))} & list_2 - {hex(id(list_2))}\", )\n",
    "\n",
    "print(list_2)\n",
    "list_2.pop()\n",
    "print(list_2, list_)\n",
    "\n",
    "list_3 = list_\n",
    "print(list_3)\n",
    "list_3.pop()\n",
    "print(list_3, list_)\n",
    "print(f\"assign : list_ - {hex(id(list_))} & list_3 - {hex(id(list_3))}\", )\n",
    "\n"
   ]
  },
  {
   "cell_type": "markdown",
   "metadata": {},
   "source": []
  },
  {
   "cell_type": "code",
   "execution_count": 3,
   "metadata": {},
   "outputs": [
    {
     "name": "stdout",
     "output_type": "stream",
     "text": [
      "[0, 1, 2, 3, 4, 5, 6, 7, 8]\n",
      "8\n",
      "3\n"
     ]
    }
   ],
   "source": [
    "list_ = list(range(9))\n",
    "print(list_)\n",
    "print(max(list_))\n",
    "print(min(list_[3:6]))\n"
   ]
  }
 ],
 "metadata": {
  "kernelspec": {
   "display_name": "Python 3",
   "language": "python",
   "name": "python3"
  },
  "language_info": {
   "codemirror_mode": {
    "name": "ipython",
    "version": 3
   },
   "file_extension": ".py",
   "mimetype": "text/x-python",
   "name": "python",
   "nbconvert_exporter": "python",
   "pygments_lexer": "ipython3",
   "version": "3.10.6"
  },
  "orig_nbformat": 4,
  "vscode": {
   "interpreter": {
    "hash": "916dbcbb3f70747c44a77c7bcd40155683ae19c65e1c03b4aa3499c5328201f1"
   }
  }
 },
 "nbformat": 4,
 "nbformat_minor": 2
}
