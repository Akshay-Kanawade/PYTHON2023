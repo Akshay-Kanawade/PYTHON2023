{
 "cells": [
  {
   "attachments": {},
   "cell_type": "markdown",
   "metadata": {},
   "source": [
    "\"\"\"\n",
    "    string\n",
    "\"\"\""
   ]
  },
  {
   "cell_type": "code",
   "execution_count": 4,
   "metadata": {},
   "outputs": [
    {
     "name": "stdout",
     "output_type": "stream",
     "text": [
      "saf fesfs\n",
      "saf saf saf \n"
     ]
    }
   ],
   "source": [
    "# concatinate\n",
    "name= \"saf \"\n",
    "name_str= \"fesfs\"\n",
    "\n",
    "print(name+name_str)\n",
    "print(name*3)\n"
   ]
  },
  {
   "cell_type": "code",
   "execution_count": 9,
   "metadata": {},
   "outputs": [
    {
     "name": "stdout",
     "output_type": "stream",
     "text": [
      "k\n",
      "kanawade\n",
      "ka\n",
      "edawanak\n",
      "kanaw\n",
      "aae\n"
     ]
    }
   ],
   "source": [
    "# string indexing/ slicing\n",
    "\n",
    "name = \"kanawade\"\n",
    "\n",
    "print(name[0])\n",
    "print(name[:])\n",
    "print(name[:4:3])\n",
    "print(name[::-1])\n",
    "print(name[:-3])\n",
    "print(name[-5::2])"
   ]
  },
  {
   "cell_type": "code",
   "execution_count": 14,
   "metadata": {},
   "outputs": [
    {
     "name": "stdout",
     "output_type": "stream",
     "text": [
      "length of str1 - 14\n",
      "lower of str -   asdfgaahjkal \n",
      "upper -   ASDFGAAHJKAL \n",
      "title of str -   Asdfgaahjkal \n",
      "count of str - 3\n",
      "strip ofc str - asDfgaAhjKal\n",
      "rstrip of str -   asDfgaAhjKal\n",
      "lstrip of str -  asDfgaAhjKal \n"
     ]
    }
   ],
   "source": [
    "# string methods\n",
    "\n",
    "str1= \" asDfgaAhjKal \"\n",
    "\n",
    "# len\n",
    "\n",
    "print(\"length of str1 -\", len(str1))\n",
    "\n",
    "# lower\n",
    "\n",
    "print(\"lower of str - \",str1.lower())\n",
    "\n",
    "# upper\n",
    "\n",
    "print(\"upper - \", str1.upper())\n",
    "\n",
    "# title\n",
    "\n",
    "print(\"title of str - \", str1.title())\n",
    "\n",
    "# count\n",
    "\n",
    "print(\"count of str -\", str1.count(\"a\"))\n",
    "\n",
    "# strip\n",
    "\n",
    "print(\"strip ofc str -\", str1.strip())\n",
    "print(\"rstrip of str - \", str1.rstrip())\n",
    "print(\"lstrip of str - \", str1.lstrip())"
   ]
  },
  {
   "cell_type": "code",
   "execution_count": 29,
   "metadata": {},
   "outputs": [
    {
     "name": "stdout",
     "output_type": "stream",
     "text": [
      "1\n",
      "6\n",
      "-1\n",
      " asdfgaAhjKal \n",
      " AsDfgAAhjKal \n",
      " asDfgaAhjKal \n",
      "##asDfgaAhjKal##\n"
     ]
    }
   ],
   "source": [
    "# find / replace / center\n",
    "\n",
    "print(str1.find('a'))\n",
    "print(str1.find('a',2))\n",
    "print(str1.find('q'))\n",
    "\n",
    "print(str1.replace(\"D\", \"d\"))\n",
    "print(str1.replace(\"a\", \"A\", 2))\n",
    "print(str1.replace(\"q\", \"d\"))\n",
    "\n",
    "print(str1.strip().center(16, \"#\"))"
   ]
  },
  {
   "cell_type": "code",
   "execution_count": 31,
   "metadata": {},
   "outputs": [
    {
     "name": "stdout",
     "output_type": "stream",
     "text": [
      "True\n",
      "False\n"
     ]
    }
   ],
   "source": [
    "print(\"a\" in str1)\n",
    "print(\"q \" in str1)"
   ]
  }
 ],
 "metadata": {
  "kernelspec": {
   "display_name": "Python 3",
   "language": "python",
   "name": "python3"
  },
  "language_info": {
   "codemirror_mode": {
    "name": "ipython",
    "version": 3
   },
   "file_extension": ".py",
   "mimetype": "text/x-python",
   "name": "python",
   "nbconvert_exporter": "python",
   "pygments_lexer": "ipython3",
   "version": "3.10.6"
  },
  "orig_nbformat": 4,
  "vscode": {
   "interpreter": {
    "hash": "916dbcbb3f70747c44a77c7bcd40155683ae19c65e1c03b4aa3499c5328201f1"
   }
  }
 },
 "nbformat": 4,
 "nbformat_minor": 2
}
